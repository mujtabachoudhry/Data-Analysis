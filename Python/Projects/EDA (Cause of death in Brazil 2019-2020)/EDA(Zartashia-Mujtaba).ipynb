{
  "cells": [
    {
      "cell_type": "markdown",
      "metadata": {
        "id": "SrnhALXQAEr9"
      },
      "source": [
        "## **Cause of death in Brazil, 2019-2020**"
      ]
    },
    {
      "cell_type": "markdown",
      "metadata": {
        "id": "SXORNDaG-wGD"
      },
      "source": [
        "### **Source of data**"
      ]
    },
    {
      "cell_type": "markdown",
      "metadata": {
        "id": "qFL42U1U-wGf"
      },
      "source": [
        "- The registry offices in Brazil decided to make available some data about the registered deaths in Brazil since the coronavirus pandemic.\n",
        "- This data contain the number of registered deaths by day, state, gender, age, skin color and cause of death (mainly focused in covid-19 and cardiovascular diseases)[1] occurred between 01-01-2019 and 15-09-2020.\n",
        "- Data is available at this [link](https://www.kaggle.com/datasets/amandalk/cause-of-death-in-brazil-20192020)"
      ]
    },
    {
      "cell_type": "markdown",
      "metadata": {
        "id": "bk1MTRU7-wGi"
      },
      "source": [
        "## Objective\n",
        "- The objective of this project is to create a data analysis that will help us to understand the number and causes of deaths while comparing people of different states, age, color and gender."
      ]
    },
    {
      "cell_type": "markdown",
      "metadata": {},
      "source": [
        "### Import libraries"
      ]
    },
    {
      "cell_type": "code",
      "execution_count": 3,
      "metadata": {
        "id": "uw6_1a0BIuP4"
      },
      "outputs": [],
      "source": [
        "\n",
        "import pandas as pd\n",
        "import numpy as np\n",
        "#for statistcs\n",
        "# import scipy.stats\n",
        "# import matplotlib as mlt\n",
        "import matplotlib.pyplot as plt\n",
        "import seaborn as sns"
      ]
    },
    {
      "cell_type": "markdown",
      "metadata": {},
      "source": [
        "### Import dataset"
      ]
    },
    {
      "cell_type": "code",
      "execution_count": 4,
      "metadata": {},
      "outputs": [],
      "source": [
        "df = pd.read_csv('Data.csv')\n",
        "df_original = df.copy() # copy the original data frame"
      ]
    },
    {
      "cell_type": "code",
      "execution_count": 5,
      "metadata": {
        "id": "nt1saMfyP1Ph"
      },
      "outputs": [
        {
          "data": {
            "text/html": [
              "<div>\n",
              "<style scoped>\n",
              "    .dataframe tbody tr th:only-of-type {\n",
              "        vertical-align: middle;\n",
              "    }\n",
              "\n",
              "    .dataframe tbody tr th {\n",
              "        vertical-align: top;\n",
              "    }\n",
              "\n",
              "    .dataframe thead th {\n",
              "        text-align: right;\n",
              "    }\n",
              "</style>\n",
              "<table border=\"1\" class=\"dataframe\">\n",
              "  <thead>\n",
              "    <tr style=\"text-align: right;\">\n",
              "      <th></th>\n",
              "      <th>date</th>\n",
              "      <th>state</th>\n",
              "      <th>gender</th>\n",
              "      <th>age</th>\n",
              "      <th>color</th>\n",
              "      <th>cause</th>\n",
              "      <th>total</th>\n",
              "    </tr>\n",
              "  </thead>\n",
              "  <tbody>\n",
              "    <tr>\n",
              "      <th>0</th>\n",
              "      <td>2020-01-01</td>\n",
              "      <td>AC</td>\n",
              "      <td>F</td>\n",
              "      <td>60 - 69</td>\n",
              "      <td>East asian</td>\n",
              "      <td>Septicemia</td>\n",
              "      <td>1</td>\n",
              "    </tr>\n",
              "    <tr>\n",
              "      <th>1</th>\n",
              "      <td>2019-01-01</td>\n",
              "      <td>AC</td>\n",
              "      <td>F</td>\n",
              "      <td>80 - 89</td>\n",
              "      <td>White</td>\n",
              "      <td>Hearth attack</td>\n",
              "      <td>1</td>\n",
              "    </tr>\n",
              "    <tr>\n",
              "      <th>2</th>\n",
              "      <td>2019-01-01</td>\n",
              "      <td>AC</td>\n",
              "      <td>F</td>\n",
              "      <td>30 - 39</td>\n",
              "      <td>Indigenous</td>\n",
              "      <td>Others</td>\n",
              "      <td>1</td>\n",
              "    </tr>\n",
              "    <tr>\n",
              "      <th>3</th>\n",
              "      <td>2019-01-01</td>\n",
              "      <td>AC</td>\n",
              "      <td>F</td>\n",
              "      <td>70 - 79</td>\n",
              "      <td>Mixed</td>\n",
              "      <td>Cardiogenic shock</td>\n",
              "      <td>1</td>\n",
              "    </tr>\n",
              "    <tr>\n",
              "      <th>4</th>\n",
              "      <td>2020-01-01</td>\n",
              "      <td>AC</td>\n",
              "      <td>F</td>\n",
              "      <td>70 - 79</td>\n",
              "      <td>Mixed</td>\n",
              "      <td>Pneumonia</td>\n",
              "      <td>1</td>\n",
              "    </tr>\n",
              "  </tbody>\n",
              "</table>\n",
              "</div>"
            ],
            "text/plain": [
              "         date state gender      age       color              cause  total\n",
              "0  2020-01-01    AC      F  60 - 69  East asian         Septicemia      1\n",
              "1  2019-01-01    AC      F  80 - 89       White      Hearth attack      1\n",
              "2  2019-01-01    AC      F  30 - 39  Indigenous             Others      1\n",
              "3  2019-01-01    AC      F  70 - 79       Mixed  Cardiogenic shock      1\n",
              "4  2020-01-01    AC      F  70 - 79       Mixed          Pneumonia      1"
            ]
          },
          "execution_count": 5,
          "metadata": {},
          "output_type": "execute_result"
        }
      ],
      "source": [
        "df.head()       # To see the first 5 rows of data set"
      ]
    },
    {
      "cell_type": "markdown",
      "metadata": {},
      "source": [
        "## Check shape "
      ]
    },
    {
      "cell_type": "code",
      "execution_count": 6,
      "metadata": {
        "id": "2xlA9u1UI_Am"
      },
      "outputs": [
        {
          "name": "stdout",
          "output_type": "stream",
          "text": [
            "Number of Rows are:  1098241\n",
            "Number of Columns are:  7\n"
          ]
        }
      ],
      "source": [
        "rows, cols = df.shape\n",
        "print(\"Number of Rows are: \", rows)\n",
        "print(\"Number of Columns are: \", cols)"
      ]
    },
    {
      "cell_type": "markdown",
      "metadata": {},
      "source": [
        "- Check names of all the columns"
      ]
    },
    {
      "cell_type": "code",
      "execution_count": 7,
      "metadata": {},
      "outputs": [
        {
          "data": {
            "text/plain": [
              "Index(['date', 'state', 'gender', 'age', 'color', 'cause', 'total'], dtype='object')"
            ]
          },
          "execution_count": 7,
          "metadata": {},
          "output_type": "execute_result"
        }
      ],
      "source": [
        "df.columns"
      ]
    },
    {
      "cell_type": "markdown",
      "metadata": {},
      "source": [
        "## Check info"
      ]
    },
    {
      "cell_type": "code",
      "execution_count": 8,
      "metadata": {
        "id": "4jB2d6yuJDZH"
      },
      "outputs": [
        {
          "name": "stdout",
          "output_type": "stream",
          "text": [
            "<class 'pandas.core.frame.DataFrame'>\n",
            "RangeIndex: 1098241 entries, 0 to 1098240\n",
            "Data columns (total 7 columns):\n",
            " #   Column  Non-Null Count    Dtype \n",
            "---  ------  --------------    ----- \n",
            " 0   date    1098241 non-null  object\n",
            " 1   state   1098241 non-null  object\n",
            " 2   gender  1098241 non-null  object\n",
            " 3   age     1098241 non-null  object\n",
            " 4   color   1098241 non-null  object\n",
            " 5   cause   1098241 non-null  object\n",
            " 6   total   1098241 non-null  int64 \n",
            "dtypes: int64(1), object(6)\n",
            "memory usage: 58.7+ MB\n"
          ]
        }
      ],
      "source": [
        "df.info() "
      ]
    },
    {
      "cell_type": "markdown",
      "metadata": {},
      "source": [
        "## Summary statistics"
      ]
    },
    {
      "cell_type": "code",
      "execution_count": 9,
      "metadata": {},
      "outputs": [
        {
          "data": {
            "text/html": [
              "<div>\n",
              "<style scoped>\n",
              "    .dataframe tbody tr th:only-of-type {\n",
              "        vertical-align: middle;\n",
              "    }\n",
              "\n",
              "    .dataframe tbody tr th {\n",
              "        vertical-align: top;\n",
              "    }\n",
              "\n",
              "    .dataframe thead th {\n",
              "        text-align: right;\n",
              "    }\n",
              "</style>\n",
              "<table border=\"1\" class=\"dataframe\">\n",
              "  <thead>\n",
              "    <tr style=\"text-align: right;\">\n",
              "      <th></th>\n",
              "      <th>total</th>\n",
              "    </tr>\n",
              "  </thead>\n",
              "  <tbody>\n",
              "    <tr>\n",
              "      <th>count</th>\n",
              "      <td>1.098241e+06</td>\n",
              "    </tr>\n",
              "    <tr>\n",
              "      <th>mean</th>\n",
              "      <td>1.872415e+00</td>\n",
              "    </tr>\n",
              "    <tr>\n",
              "      <th>std</th>\n",
              "      <td>2.233376e+00</td>\n",
              "    </tr>\n",
              "    <tr>\n",
              "      <th>min</th>\n",
              "      <td>1.000000e+00</td>\n",
              "    </tr>\n",
              "    <tr>\n",
              "      <th>25%</th>\n",
              "      <td>1.000000e+00</td>\n",
              "    </tr>\n",
              "    <tr>\n",
              "      <th>50%</th>\n",
              "      <td>1.000000e+00</td>\n",
              "    </tr>\n",
              "    <tr>\n",
              "      <th>75%</th>\n",
              "      <td>2.000000e+00</td>\n",
              "    </tr>\n",
              "    <tr>\n",
              "      <th>max</th>\n",
              "      <td>4.300000e+01</td>\n",
              "    </tr>\n",
              "  </tbody>\n",
              "</table>\n",
              "</div>"
            ],
            "text/plain": [
              "              total\n",
              "count  1.098241e+06\n",
              "mean   1.872415e+00\n",
              "std    2.233376e+00\n",
              "min    1.000000e+00\n",
              "25%    1.000000e+00\n",
              "50%    1.000000e+00\n",
              "75%    2.000000e+00\n",
              "max    4.300000e+01"
            ]
          },
          "execution_count": 9,
          "metadata": {},
          "output_type": "execute_result"
        }
      ],
      "source": [
        "df.describe()"
      ]
    },
    {
      "cell_type": "markdown",
      "metadata": {
        "id": "bTgWKFItBy0D"
      },
      "source": [
        "**Observation:** "
      ]
    },
    {
      "cell_type": "markdown",
      "metadata": {
        "id": "PtcEE7VaQSnR"
      },
      "source": [
        "Only \"total\" column was displayed in above `describe` function since it is the only numeric column in our data"
      ]
    },
    {
      "cell_type": "markdown",
      "metadata": {},
      "source": [
        "## Find missing values"
      ]
    },
    {
      "cell_type": "code",
      "execution_count": 10,
      "metadata": {},
      "outputs": [
        {
          "data": {
            "text/plain": [
              "date      0.0\n",
              "state     0.0\n",
              "gender    0.0\n",
              "age       0.0\n",
              "color     0.0\n",
              "cause     0.0\n",
              "total     0.0\n",
              "dtype: float64"
            ]
          },
          "execution_count": 10,
          "metadata": {},
          "output_type": "execute_result"
        }
      ],
      "source": [
        "# Percent calculation\n",
        "df.isnull().sum() / df.shape[0] * 100"
      ]
    },
    {
      "cell_type": "code",
      "execution_count": 11,
      "metadata": {},
      "outputs": [
        {
          "data": {
            "text/plain": [
              "0"
            ]
          },
          "execution_count": 11,
          "metadata": {},
          "output_type": "execute_result"
        }
      ],
      "source": [
        "# check duplicates\n",
        "df.duplicated().sum()"
      ]
    },
    {
      "cell_type": "markdown",
      "metadata": {},
      "source": [
        "- There are no duplicates or  missing values in the data set but there are some N/I (Not identified) values in the age column."
      ]
    },
    {
      "cell_type": "code",
      "execution_count": 12,
      "metadata": {},
      "outputs": [
        {
          "data": {
            "text/plain": [
              "age\n",
              "10 - 19     12295\n",
              "20 - 29     29591\n",
              "30 - 39     47786\n",
              "40 - 49     80500\n",
              "50 - 59    130321\n",
              "60 - 69    180990\n",
              "70 - 79    206773\n",
              "80 - 89    201951\n",
              "90 - 99    119868\n",
              "< 9         52391\n",
              "> 100       19649\n",
              "N/I         16126\n",
              "Name: age, dtype: int64"
            ]
          },
          "execution_count": 12,
          "metadata": {},
          "output_type": "execute_result"
        }
      ],
      "source": [
        "df.age.groupby(df[\"age\"]).count()"
      ]
    },
    {
      "cell_type": "markdown",
      "metadata": {},
      "source": [
        "- Plotting histogram of age column"
      ]
    },
    {
      "cell_type": "code",
      "execution_count": 13,
      "metadata": {},
      "outputs": [
        {
          "data": {
            "text/plain": [
              "<AxesSubplot:xlabel='Count', ylabel='age'>"
            ]
          },
          "execution_count": 13,
          "metadata": {},
          "output_type": "execute_result"
        },
        {
          "data": {
            "image/png": "[encoded data removed]",
            "text/plain": [
              "<Figure size 432x288 with 1 Axes>"
            ]
          },
          "metadata": {
            "needs_background": "light"
          },
          "output_type": "display_data"
        }
      ],
      "source": [
        "sns.histplot(y=df['age'])"
      ]
    },
    {
      "cell_type": "markdown",
      "metadata": {},
      "source": [
        "- Removing the rows containing N/I values from the data set"
      ]
    },
    {
      "cell_type": "code",
      "execution_count": 14,
      "metadata": {},
      "outputs": [],
      "source": [
        "df = df[df['age'] != 'N/I']"
      ]
    },
    {
      "cell_type": "markdown",
      "metadata": {},
      "source": [
        "- Catplot "
      ]
    },
    {
      "cell_type": "code",
      "execution_count": 15,
      "metadata": {},
      "outputs": [
        {
          "data": {
            "image/png": "[encoded data removed]",
            "text/plain": [
              "<Figure size 360x360 with 1 Axes>"
            ]
          },
          "metadata": {
            "needs_background": "light"
          },
          "output_type": "display_data"
        }
      ],
      "source": [
        "ax=sns.catplot(y=\"age\", kind=\"count\", palette=\"rainbow\", data=df)\n"
      ]
    },
    {
      "cell_type": "markdown",
      "metadata": {},
      "source": [
        "- Cat plot shows a large distribution of data which we can expect from a time-series dataset."
      ]
    },
    {
      "cell_type": "markdown",
      "metadata": {
        "id": "ZjKbdQCb-wHW"
      },
      "source": [
        "### Splitting a column into multiple columns"
      ]
    },
    {
      "cell_type": "markdown",
      "metadata": {
        "id": "aXc0eWum-wHY"
      },
      "source": [
        "- Splitting date into year, month, day"
      ]
    },
    {
      "cell_type": "code",
      "execution_count": 16,
      "metadata": {
        "id": "GFuyDnR0-wHY"
      },
      "outputs": [
        {
          "data": {
            "text/plain": [
              "2020-05-11    2313\n",
              "2020-05-12    2312\n",
              "2020-05-30    2304\n",
              "2020-05-09    2298\n",
              "2020-06-08    2279\n",
              "              ... \n",
              "2020-09-11    1141\n",
              "2020-09-12    1055\n",
              "2020-09-13     907\n",
              "2020-09-14     467\n",
              "2020-09-15      79\n",
              "Name: date, Length: 624, dtype: int64"
            ]
          },
          "execution_count": 16,
          "metadata": {},
          "output_type": "execute_result"
        }
      ],
      "source": [
        "df['date'].value_counts()"
      ]
    },
    {
      "cell_type": "code",
      "execution_count": 17,
      "metadata": {
        "id": "fnv8ueEl-wHZ"
      },
      "outputs": [],
      "source": [
        "df[[\"year_of_death\", \"month_of_death\", \"day\"]] = df[\"date\"].str.split(\"-\", expand = True)"
      ]
    },
    {
      "cell_type": "markdown",
      "metadata": {
        "id": "mgHQMxJE-wHa"
      },
      "source": [
        "- Dropping the unnecessary columns"
      ]
    },
    {
      "cell_type": "code",
      "execution_count": 18,
      "metadata": {
        "id": "BIIiqLz0-wHb"
      },
      "outputs": [
        {
          "data": {
            "text/html": [
              "<div>\n",
              "<style scoped>\n",
              "    .dataframe tbody tr th:only-of-type {\n",
              "        vertical-align: middle;\n",
              "    }\n",
              "\n",
              "    .dataframe tbody tr th {\n",
              "        vertical-align: top;\n",
              "    }\n",
              "\n",
              "    .dataframe thead th {\n",
              "        text-align: right;\n",
              "    }\n",
              "</style>\n",
              "<table border=\"1\" class=\"dataframe\">\n",
              "  <thead>\n",
              "    <tr style=\"text-align: right;\">\n",
              "      <th></th>\n",
              "      <th>state</th>\n",
              "      <th>gender</th>\n",
              "      <th>age</th>\n",
              "      <th>color</th>\n",
              "      <th>cause</th>\n",
              "      <th>total</th>\n",
              "      <th>year_of_death</th>\n",
              "      <th>month_of_death</th>\n",
              "    </tr>\n",
              "  </thead>\n",
              "  <tbody>\n",
              "    <tr>\n",
              "      <th>0</th>\n",
              "      <td>AC</td>\n",
              "      <td>F</td>\n",
              "      <td>60 - 69</td>\n",
              "      <td>East asian</td>\n",
              "      <td>Septicemia</td>\n",
              "      <td>1</td>\n",
              "      <td>2020</td>\n",
              "      <td>01</td>\n",
              "    </tr>\n",
              "    <tr>\n",
              "      <th>1</th>\n",
              "      <td>AC</td>\n",
              "      <td>F</td>\n",
              "      <td>80 - 89</td>\n",
              "      <td>White</td>\n",
              "      <td>Hearth attack</td>\n",
              "      <td>1</td>\n",
              "      <td>2019</td>\n",
              "      <td>01</td>\n",
              "    </tr>\n",
              "    <tr>\n",
              "      <th>2</th>\n",
              "      <td>AC</td>\n",
              "      <td>F</td>\n",
              "      <td>30 - 39</td>\n",
              "      <td>Indigenous</td>\n",
              "      <td>Others</td>\n",
              "      <td>1</td>\n",
              "      <td>2019</td>\n",
              "      <td>01</td>\n",
              "    </tr>\n",
              "    <tr>\n",
              "      <th>3</th>\n",
              "      <td>AC</td>\n",
              "      <td>F</td>\n",
              "      <td>70 - 79</td>\n",
              "      <td>Mixed</td>\n",
              "      <td>Cardiogenic shock</td>\n",
              "      <td>1</td>\n",
              "      <td>2019</td>\n",
              "      <td>01</td>\n",
              "    </tr>\n",
              "    <tr>\n",
              "      <th>4</th>\n",
              "      <td>AC</td>\n",
              "      <td>F</td>\n",
              "      <td>70 - 79</td>\n",
              "      <td>Mixed</td>\n",
              "      <td>Pneumonia</td>\n",
              "      <td>1</td>\n",
              "      <td>2020</td>\n",
              "      <td>01</td>\n",
              "    </tr>\n",
              "  </tbody>\n",
              "</table>\n",
              "</div>"
            ],
            "text/plain": [
              "  state gender      age       color              cause  total year_of_death  \\\n",
              "0    AC      F  60 - 69  East asian         Septicemia      1          2020   \n",
              "1    AC      F  80 - 89       White      Hearth attack      1          2019   \n",
              "2    AC      F  30 - 39  Indigenous             Others      1          2019   \n",
              "3    AC      F  70 - 79       Mixed  Cardiogenic shock      1          2019   \n",
              "4    AC      F  70 - 79       Mixed          Pneumonia      1          2020   \n",
              "\n",
              "  month_of_death  \n",
              "0             01  \n",
              "1             01  \n",
              "2             01  \n",
              "3             01  \n",
              "4             01  "
            ]
          },
          "execution_count": 18,
          "metadata": {},
          "output_type": "execute_result"
        }
      ],
      "source": [
        "df.drop([\"date\", \"day\"], axis = 1, inplace = True)\n",
        "df.head()"
      ]
    },
    {
      "cell_type": "markdown",
      "metadata": {
        "id": "caTlERPT-wHc"
      },
      "source": [
        "## Check data type"
      ]
    },
    {
      "cell_type": "code",
      "execution_count": 19,
      "metadata": {
        "id": "p9r373I6-wHd"
      },
      "outputs": [
        {
          "data": {
            "text/plain": [
              "state             object\n",
              "gender            object\n",
              "age               object\n",
              "color             object\n",
              "cause             object\n",
              "total              int64\n",
              "year_of_death     object\n",
              "month_of_death    object\n",
              "dtype: object"
            ]
          },
          "execution_count": 19,
          "metadata": {},
          "output_type": "execute_result"
        }
      ],
      "source": [
        "df.dtypes"
      ]
    },
    {
      "cell_type": "markdown",
      "metadata": {
        "id": "arbtl5IZ-wHe"
      },
      "source": [
        "## Type casting"
      ]
    },
    {
      "cell_type": "markdown",
      "metadata": {
        "id": "7T5mGmmx-wHg"
      },
      "source": [
        "- Converting data type of two columns year_of_death and month_of_death from object to int"
      ]
    },
    {
      "cell_type": "code",
      "execution_count": 20,
      "metadata": {
        "id": "zHYHMHNC-wHh"
      },
      "outputs": [],
      "source": [
        "df[\"year_of_death\"] = df[\"year_of_death\"].astype(int)\n",
        "df[\"month_of_death\"] = df[\"month_of_death\"].astype(int)"
      ]
    },
    {
      "cell_type": "markdown",
      "metadata": {
        "id": "YYxCW7cr-wHi"
      },
      "source": [
        "### Converting string into numbers"
      ]
    },
    {
      "cell_type": "markdown",
      "metadata": {
        "id": "umPblQ7m-wHj"
      },
      "source": [
        "- Converting gender M and F into 0 and 1 respectively and making a new column gender_in_number."
      ]
    },
    {
      "cell_type": "code",
      "execution_count": 21,
      "metadata": {
        "id": "FBNtRH1T-wHk"
      },
      "outputs": [
        {
          "data": {
            "text/html": [
              "<div>\n",
              "<style scoped>\n",
              "    .dataframe tbody tr th:only-of-type {\n",
              "        vertical-align: middle;\n",
              "    }\n",
              "\n",
              "    .dataframe tbody tr th {\n",
              "        vertical-align: top;\n",
              "    }\n",
              "\n",
              "    .dataframe thead th {\n",
              "        text-align: right;\n",
              "    }\n",
              "</style>\n",
              "<table border=\"1\" class=\"dataframe\">\n",
              "  <thead>\n",
              "    <tr style=\"text-align: right;\">\n",
              "      <th></th>\n",
              "      <th>state</th>\n",
              "      <th>gender</th>\n",
              "      <th>age</th>\n",
              "      <th>color</th>\n",
              "      <th>cause</th>\n",
              "      <th>total</th>\n",
              "      <th>year_of_death</th>\n",
              "      <th>month_of_death</th>\n",
              "      <th>gender_in_number</th>\n",
              "    </tr>\n",
              "  </thead>\n",
              "  <tbody>\n",
              "    <tr>\n",
              "      <th>0</th>\n",
              "      <td>AC</td>\n",
              "      <td>F</td>\n",
              "      <td>60 - 69</td>\n",
              "      <td>East asian</td>\n",
              "      <td>Septicemia</td>\n",
              "      <td>1</td>\n",
              "      <td>2020</td>\n",
              "      <td>1</td>\n",
              "      <td>1</td>\n",
              "    </tr>\n",
              "    <tr>\n",
              "      <th>1</th>\n",
              "      <td>AC</td>\n",
              "      <td>F</td>\n",
              "      <td>80 - 89</td>\n",
              "      <td>White</td>\n",
              "      <td>Hearth attack</td>\n",
              "      <td>1</td>\n",
              "      <td>2019</td>\n",
              "      <td>1</td>\n",
              "      <td>1</td>\n",
              "    </tr>\n",
              "    <tr>\n",
              "      <th>2</th>\n",
              "      <td>AC</td>\n",
              "      <td>F</td>\n",
              "      <td>30 - 39</td>\n",
              "      <td>Indigenous</td>\n",
              "      <td>Others</td>\n",
              "      <td>1</td>\n",
              "      <td>2019</td>\n",
              "      <td>1</td>\n",
              "      <td>1</td>\n",
              "    </tr>\n",
              "    <tr>\n",
              "      <th>3</th>\n",
              "      <td>AC</td>\n",
              "      <td>F</td>\n",
              "      <td>70 - 79</td>\n",
              "      <td>Mixed</td>\n",
              "      <td>Cardiogenic shock</td>\n",
              "      <td>1</td>\n",
              "      <td>2019</td>\n",
              "      <td>1</td>\n",
              "      <td>1</td>\n",
              "    </tr>\n",
              "    <tr>\n",
              "      <th>4</th>\n",
              "      <td>AC</td>\n",
              "      <td>F</td>\n",
              "      <td>70 - 79</td>\n",
              "      <td>Mixed</td>\n",
              "      <td>Pneumonia</td>\n",
              "      <td>1</td>\n",
              "      <td>2020</td>\n",
              "      <td>1</td>\n",
              "      <td>1</td>\n",
              "    </tr>\n",
              "  </tbody>\n",
              "</table>\n",
              "</div>"
            ],
            "text/plain": [
              "  state gender      age       color              cause  total  year_of_death  \\\n",
              "0    AC      F  60 - 69  East asian         Septicemia      1           2020   \n",
              "1    AC      F  80 - 89       White      Hearth attack      1           2019   \n",
              "2    AC      F  30 - 39  Indigenous             Others      1           2019   \n",
              "3    AC      F  70 - 79       Mixed  Cardiogenic shock      1           2019   \n",
              "4    AC      F  70 - 79       Mixed          Pneumonia      1           2020   \n",
              "\n",
              "   month_of_death  gender_in_number  \n",
              "0               1                 1  \n",
              "1               1                 1  \n",
              "2               1                 1  \n",
              "3               1                 1  \n",
              "4               1                 1  "
            ]
          },
          "execution_count": 21,
          "metadata": {},
          "output_type": "execute_result"
        }
      ],
      "source": [
        "df[\"gender_in_number\"] = df.gender.map({'M': 0, 'F': 1})\n",
        "df.head()"
      ]
    },
    {
      "cell_type": "markdown",
      "metadata": {
        "id": "0UF2Zqo0-wHm"
      },
      "source": [
        "### Check columns on the basis of data type"
      ]
    },
    {
      "cell_type": "code",
      "execution_count": 22,
      "metadata": {
        "id": "4TFaIYTV-wHn"
      },
      "outputs": [
        {
          "data": {
            "text/plain": [
              "state               object\n",
              "gender              object\n",
              "age                 object\n",
              "color               object\n",
              "cause               object\n",
              "total                int64\n",
              "year_of_death        int32\n",
              "month_of_death       int32\n",
              "gender_in_number     int64\n",
              "dtype: object"
            ]
          },
          "execution_count": 22,
          "metadata": {},
          "output_type": "execute_result"
        }
      ],
      "source": [
        "df.dtypes"
      ]
    },
    {
      "cell_type": "markdown",
      "metadata": {
        "id": "ScRjtnIv-wHq"
      },
      "source": [
        "- select only object columns"
      ]
    },
    {
      "cell_type": "code",
      "execution_count": 23,
      "metadata": {
        "id": "k_JYG2cL-wHr"
      },
      "outputs": [
        {
          "data": {
            "text/html": [
              "<div>\n",
              "<style scoped>\n",
              "    .dataframe tbody tr th:only-of-type {\n",
              "        vertical-align: middle;\n",
              "    }\n",
              "\n",
              "    .dataframe tbody tr th {\n",
              "        vertical-align: top;\n",
              "    }\n",
              "\n",
              "    .dataframe thead th {\n",
              "        text-align: right;\n",
              "    }\n",
              "</style>\n",
              "<table border=\"1\" class=\"dataframe\">\n",
              "  <thead>\n",
              "    <tr style=\"text-align: right;\">\n",
              "      <th></th>\n",
              "      <th>state</th>\n",
              "      <th>gender</th>\n",
              "      <th>age</th>\n",
              "      <th>color</th>\n",
              "      <th>cause</th>\n",
              "    </tr>\n",
              "  </thead>\n",
              "  <tbody>\n",
              "    <tr>\n",
              "      <th>0</th>\n",
              "      <td>AC</td>\n",
              "      <td>F</td>\n",
              "      <td>60 - 69</td>\n",
              "      <td>East asian</td>\n",
              "      <td>Septicemia</td>\n",
              "    </tr>\n",
              "    <tr>\n",
              "      <th>1</th>\n",
              "      <td>AC</td>\n",
              "      <td>F</td>\n",
              "      <td>80 - 89</td>\n",
              "      <td>White</td>\n",
              "      <td>Hearth attack</td>\n",
              "    </tr>\n",
              "    <tr>\n",
              "      <th>2</th>\n",
              "      <td>AC</td>\n",
              "      <td>F</td>\n",
              "      <td>30 - 39</td>\n",
              "      <td>Indigenous</td>\n",
              "      <td>Others</td>\n",
              "    </tr>\n",
              "    <tr>\n",
              "      <th>3</th>\n",
              "      <td>AC</td>\n",
              "      <td>F</td>\n",
              "      <td>70 - 79</td>\n",
              "      <td>Mixed</td>\n",
              "      <td>Cardiogenic shock</td>\n",
              "    </tr>\n",
              "    <tr>\n",
              "      <th>4</th>\n",
              "      <td>AC</td>\n",
              "      <td>F</td>\n",
              "      <td>70 - 79</td>\n",
              "      <td>Mixed</td>\n",
              "      <td>Pneumonia</td>\n",
              "    </tr>\n",
              "  </tbody>\n",
              "</table>\n",
              "</div>"
            ],
            "text/plain": [
              "  state gender      age       color              cause\n",
              "0    AC      F  60 - 69  East asian         Septicemia\n",
              "1    AC      F  80 - 89       White      Hearth attack\n",
              "2    AC      F  30 - 39  Indigenous             Others\n",
              "3    AC      F  70 - 79       Mixed  Cardiogenic shock\n",
              "4    AC      F  70 - 79       Mixed          Pneumonia"
            ]
          },
          "execution_count": 23,
          "metadata": {},
          "output_type": "execute_result"
        }
      ],
      "source": [
        "df.select_dtypes(include=['object']).head() "
      ]
    },
    {
      "cell_type": "markdown",
      "metadata": {},
      "source": [
        "- select only numeric columns"
      ]
    },
    {
      "cell_type": "code",
      "execution_count": 24,
      "metadata": {},
      "outputs": [
        {
          "data": {
            "text/html": [
              "<div>\n",
              "<style scoped>\n",
              "    .dataframe tbody tr th:only-of-type {\n",
              "        vertical-align: middle;\n",
              "    }\n",
              "\n",
              "    .dataframe tbody tr th {\n",
              "        vertical-align: top;\n",
              "    }\n",
              "\n",
              "    .dataframe thead th {\n",
              "        text-align: right;\n",
              "    }\n",
              "</style>\n",
              "<table border=\"1\" class=\"dataframe\">\n",
              "  <thead>\n",
              "    <tr style=\"text-align: right;\">\n",
              "      <th></th>\n",
              "      <th>total</th>\n",
              "      <th>year_of_death</th>\n",
              "      <th>month_of_death</th>\n",
              "      <th>gender_in_number</th>\n",
              "    </tr>\n",
              "  </thead>\n",
              "  <tbody>\n",
              "    <tr>\n",
              "      <th>0</th>\n",
              "      <td>1</td>\n",
              "      <td>2020</td>\n",
              "      <td>1</td>\n",
              "      <td>1</td>\n",
              "    </tr>\n",
              "    <tr>\n",
              "      <th>1</th>\n",
              "      <td>1</td>\n",
              "      <td>2019</td>\n",
              "      <td>1</td>\n",
              "      <td>1</td>\n",
              "    </tr>\n",
              "    <tr>\n",
              "      <th>2</th>\n",
              "      <td>1</td>\n",
              "      <td>2019</td>\n",
              "      <td>1</td>\n",
              "      <td>1</td>\n",
              "    </tr>\n",
              "    <tr>\n",
              "      <th>3</th>\n",
              "      <td>1</td>\n",
              "      <td>2019</td>\n",
              "      <td>1</td>\n",
              "      <td>1</td>\n",
              "    </tr>\n",
              "    <tr>\n",
              "      <th>4</th>\n",
              "      <td>1</td>\n",
              "      <td>2020</td>\n",
              "      <td>1</td>\n",
              "      <td>1</td>\n",
              "    </tr>\n",
              "  </tbody>\n",
              "</table>\n",
              "</div>"
            ],
            "text/plain": [
              "   total  year_of_death  month_of_death  gender_in_number\n",
              "0      1           2020               1                 1\n",
              "1      1           2019               1                 1\n",
              "2      1           2019               1                 1\n",
              "3      1           2019               1                 1\n",
              "4      1           2020               1                 1"
            ]
          },
          "execution_count": 24,
          "metadata": {},
          "output_type": "execute_result"
        }
      ],
      "source": [
        "df.select_dtypes(include=['number']).head() "
      ]
    },
    {
      "cell_type": "markdown",
      "metadata": {
        "id": "JLfX4YAI-wIH"
      },
      "source": [
        "- Converting range of age into four categories; kids, teens, adults, old"
      ]
    },
    {
      "cell_type": "code",
      "execution_count": 25,
      "metadata": {
        "id": "cbE00bgA-wIJ"
      },
      "outputs": [
        {
          "data": {
            "text/plain": [
              "age\n",
              "10 - 19     12295\n",
              "20 - 29     29591\n",
              "30 - 39     47786\n",
              "40 - 49     80500\n",
              "50 - 59    130321\n",
              "60 - 69    180990\n",
              "70 - 79    206773\n",
              "80 - 89    201951\n",
              "90 - 99    119868\n",
              "< 9         52391\n",
              "> 100       19649\n",
              "Name: age, dtype: int64"
            ]
          },
          "execution_count": 25,
          "metadata": {},
          "output_type": "execute_result"
        }
      ],
      "source": [
        "df.age.groupby(df[\"age\"]).count()"
      ]
    },
    {
      "cell_type": "code",
      "execution_count": 26,
      "metadata": {
        "id": "oAHnLyAs-wIK"
      },
      "outputs": [
        {
          "data": {
            "text/plain": [
              "0             old\n",
              "1             old\n",
              "2          adults\n",
              "3             old\n",
              "4             old\n",
              "            ...  \n",
              "1098236       old\n",
              "1098237    adults\n",
              "1098238       old\n",
              "1098239       old\n",
              "1098240       old\n",
              "Name: age, Length: 1082115, dtype: object"
            ]
          },
          "execution_count": 26,
          "metadata": {},
          "output_type": "execute_result"
        }
      ],
      "source": [
        "df['age'] = df['age'].replace([ \"< 9\", '10 - 19','20 - 29', \"30 - 39\",\"40 - 49\", '50 - 59', '60 - 69', '70 - 79', '80 - 89', '90 - 99', \"> 100\"], [\"kids\",'teens','adults', \"adults\", \"old\", \"old\", 'old', 'old', 'old', 'old', 'old'])\n",
        "df['age']"
      ]
    },
    {
      "cell_type": "code",
      "execution_count": 27,
      "metadata": {
        "id": "08OEAoS4-wIM"
      },
      "outputs": [
        {
          "data": {
            "text/plain": [
              "age\n",
              "adults     77377\n",
              "kids       52391\n",
              "old       940052\n",
              "teens      12295\n",
              "Name: age, dtype: int64"
            ]
          },
          "execution_count": 27,
          "metadata": {},
          "output_type": "execute_result"
        }
      ],
      "source": [
        "df.age.groupby(df[\"age\"]).count()"
      ]
    },
    {
      "cell_type": "markdown",
      "metadata": {
        "id": "I_6CIOUR-wIO"
      },
      "source": [
        "## Checking unique values:"
      ]
    },
    {
      "cell_type": "code",
      "execution_count": 28,
      "metadata": {
        "id": "fvEl5OGd-wIP"
      },
      "outputs": [
        {
          "data": {
            "text/plain": [
              "array(['East asian', 'White', 'Indigenous', 'Mixed', 'Ignored', 'Black'],\n",
              "      dtype=object)"
            ]
          },
          "execution_count": 28,
          "metadata": {},
          "output_type": "execute_result"
        }
      ],
      "source": [
        "df.color.unique()"
      ]
    },
    {
      "cell_type": "code",
      "execution_count": 29,
      "metadata": {
        "id": "xCRj9SEs-wIR"
      },
      "outputs": [
        {
          "data": {
            "text/plain": [
              "array(['Septicemia', 'Hearth attack', 'Others', 'Cardiogenic shock',\n",
              "       'Pneumonia', 'Stroke', 'Undetermined', 'Respiratory failure',\n",
              "       'Cardiopathy', 'Sudden death', 'Sars', 'Covid', 'Covid (stroke)',\n",
              "       'Covid (hearth attack)', 'Unknown'], dtype=object)"
            ]
          },
          "execution_count": 29,
          "metadata": {},
          "output_type": "execute_result"
        }
      ],
      "source": [
        "df.cause.unique()"
      ]
    },
    {
      "cell_type": "markdown",
      "metadata": {
        "id": "BqVX86JO-wIS"
      },
      "source": [
        "## Checking value counts in each column"
      ]
    },
    {
      "cell_type": "code",
      "execution_count": 30,
      "metadata": {
        "id": "HZId-30B-wIT"
      },
      "outputs": [
        {
          "data": {
            "text/plain": [
              "old       940052\n",
              "adults     77377\n",
              "kids       52391\n",
              "teens      12295\n",
              "Name: age, dtype: int64"
            ]
          },
          "execution_count": 30,
          "metadata": {},
          "output_type": "execute_result"
        }
      ],
      "source": [
        "df.age.value_counts()"
      ]
    },
    {
      "cell_type": "code",
      "execution_count": 31,
      "metadata": {
        "id": "SEwoHSRO-wIU"
      },
      "outputs": [
        {
          "data": {
            "text/plain": [
              "White         412886\n",
              "Mixed         386444\n",
              "Ignored       164586\n",
              "Black          98453\n",
              "East asian     16067\n",
              "Indigenous      3679\n",
              "Name: color, dtype: int64"
            ]
          },
          "execution_count": 31,
          "metadata": {},
          "output_type": "execute_result"
        }
      ],
      "source": [
        "df.color.value_counts()"
      ]
    },
    {
      "cell_type": "markdown",
      "metadata": {
        "id": "BotpS8OZ-wIW"
      },
      "source": [
        "## Checking outliers"
      ]
    },
    {
      "cell_type": "code",
      "execution_count": 32,
      "metadata": {
        "id": "QxESyIC--wIX"
      },
      "outputs": [
        {
          "data": {
            "text/plain": [
              "<AxesSubplot:xlabel='month_of_death', ylabel='Count'>"
            ]
          },
          "execution_count": 32,
          "metadata": {},
          "output_type": "execute_result"
        },
        {
          "data": {
            "image/png": "[encoded data removed]",
            "text/plain": [
              "<Figure size 432x288 with 1 Axes>"
            ]
          },
          "metadata": {
            "needs_background": "light"
          },
          "output_type": "display_data"
        }
      ],
      "source": [
        "sns.histplot(df['month_of_death'],  alpha = 0.5, label = 'year_of_death')"
      ]
    },
    {
      "cell_type": "code",
      "execution_count": 33,
      "metadata": {
        "id": "v5Qq1_iL-wIZ"
      },
      "outputs": [
        {
          "name": "stderr",
          "output_type": "stream",
          "text": [
            "c:\\Users\\sunrise\\AppData\\Local\\Programs\\Python\\Python310\\lib\\site-packages\\seaborn\\_decorators.py:36: FutureWarning: Pass the following variable as a keyword arg: x. From version 0.12, the only valid positional argument will be `data`, and passing other arguments without an explicit keyword will result in an error or misinterpretation.\n",
            "  warnings.warn(\n"
          ]
        },
        {
          "data": {
            "text/plain": [
              "<AxesSubplot:xlabel='total'>"
            ]
          },
          "execution_count": 33,
          "metadata": {},
          "output_type": "execute_result"
        },
        {
          "data": {
            "image/png": "[encoded data removed]",
            "text/plain": [
              "<Figure size 432x288 with 1 Axes>"
            ]
          },
          "metadata": {
            "needs_background": "light"
          },
          "output_type": "display_data"
        }
      ],
      "source": [
        "sns.boxplot(df['total'],data=df, palette=\"Set3\")"
      ]
    },
    {
      "cell_type": "markdown",
      "metadata": {},
      "source": [
        "- The total column has outliers but it is completely justified. As it tells us about the number of deaths in a particular area based on the people's age, gender and color due to disease. As there can be a lot more deaths in one area due to widespread of some virus in that area, so these are not considered as wrong values."
      ]
    },
    {
      "cell_type": "markdown",
      "metadata": {
        "id": "oU1dhCPC-wIa"
      },
      "source": [
        "# Filtering data"
      ]
    },
    {
      "cell_type": "markdown",
      "metadata": {},
      "source": [
        "### Percentage comparison of data of males and females"
      ]
    },
    {
      "cell_type": "code",
      "execution_count": 34,
      "metadata": {},
      "outputs": [
        {
          "data": {
            "text/plain": [
              "<AxesSubplot:ylabel='None'>"
            ]
          },
          "execution_count": 34,
          "metadata": {},
          "output_type": "execute_result"
        },
        {
          "data": {
            "image/png": "[encoded data removed]",
            "text/plain": [
              "<Figure size 432x288 with 1 Axes>"
            ]
          },
          "metadata": {},
          "output_type": "display_data"
        }
      ],
      "source": [
        "df.groupby('gender').size().plot(kind='pie', autopct='%.2f')"
      ]
    },
    {
      "cell_type": "markdown",
      "metadata": {
        "id": "7TFDncEF-wIc"
      },
      "source": [
        "### Top 8 causes of death"
      ]
    },
    {
      "cell_type": "code",
      "execution_count": 35,
      "metadata": {
        "id": "7sRcGr3n-wId"
      },
      "outputs": [
        {
          "data": {
            "text/plain": [
              "Others                 298788\n",
              "Pneumonia              147573\n",
              "Septicemia             140035\n",
              "Stroke                 107580\n",
              "Hearth attack           97194\n",
              "Respiratory failure     93594\n",
              "Cardiopathy             45682\n",
              "Cardiogenic shock       45150\n",
              "Covid                   42130\n",
              "Name: cause, dtype: int64"
            ]
          },
          "execution_count": 35,
          "metadata": {},
          "output_type": "execute_result"
        }
      ],
      "source": [
        "big_causes = df.cause.value_counts().nlargest(9)\n",
        "big_causes"
      ]
    },
    {
      "cell_type": "code",
      "execution_count": 36,
      "metadata": {
        "id": "aWGOBFwS-wIf"
      },
      "outputs": [
        {
          "data": {
            "text/plain": [
              "([<matplotlib.patches.Wedge at 0x148553ce650>,\n",
              "  <matplotlib.patches.Wedge at 0x148553ced40>,\n",
              "  <matplotlib.patches.Wedge at 0x148553cf460>,\n",
              "  <matplotlib.patches.Wedge at 0x148553cfb80>,\n",
              "  <matplotlib.patches.Wedge at 0x1485533c2e0>,\n",
              "  <matplotlib.patches.Wedge at 0x1485533ca00>,\n",
              "  <matplotlib.patches.Wedge at 0x1485533d120>,\n",
              "  <matplotlib.patches.Wedge at 0x1485533d840>,\n",
              "  <matplotlib.patches.Wedge at 0x1485533df60>],\n",
              " [Text(0.6643690267504537, 0.8767062200615752, 'Others'),\n",
              "  Text(-0.8663348406368507, 0.9692594822330718, 'Pneumonia'),\n",
              "  Text(-1.0988161480847216, -0.05102031662245165, 'Septicemia'),\n",
              "  Text(-0.7578463681824564, -0.7972884561014669, 'Stroke'),\n",
              "  Text(-0.14033883817818713, -1.0910110038394647, 'Hearth attack'),\n",
              "  Text(0.4893374279836178, -0.9851643931722146, 'Respiratory failure'),\n",
              "  Text(0.8554271403645529, -0.6915521726722603, 'Cardiopathy'),\n",
              "  Text(1.013392898373479, -0.4278257046113523, 'Cardiogenic shock'),\n",
              "  Text(1.0907109368379764, -0.14265220735068893, 'Covid ')],\n",
              " [Text(0.3623831055002475, 0.4782033927608591, '29.4%'),\n",
              "  Text(-0.5331291326996004, 0.5964673736818903, '14.5%'),\n",
              "  Text(-0.5993542625916662, -0.027829263612246354, '13.8%'),\n",
              "  Text(-0.4133707462813398, -0.43488461241898196, '10.6%'),\n",
              "  Text(-0.07654845718810206, -0.5950969111851625, '9.6%'),\n",
              "  Text(0.26691132435470055, -0.5373623962757533, '9.2%'),\n",
              "  Text(0.4665966220170288, -0.377210276003051, '4.5%'),\n",
              "  Text(0.5527597627491703, -0.23335947524255576, '4.4%'),\n",
              "  Text(0.5949332382752598, -0.07781029491855758, '4.1%')])"
            ]
          },
          "execution_count": 36,
          "metadata": {},
          "output_type": "execute_result"
        },
        {
          "data": {
            "image/png": "[encoded data removed]",
            "text/plain": [
              "<Figure size 432x288 with 1 Axes>"
            ]
          },
          "metadata": {},
          "output_type": "display_data"
        }
      ],
      "source": [
        "label = [\"Others\",\"Pneumonia\",\"Septicemia\",\"Stroke\",\"Hearth attack\", \"Respiratory failure\", \"Cardiopathy\", \"Cardiogenic shock\", \"Covid \"]\n",
        "# pie chart\n",
        "plt.pie(big_causes, labels=label, autopct='%1.1f%%', explode=(0,0.2,0,0,0,0,0,0,0))"
      ]
    },
    {
      "cell_type": "markdown",
      "metadata": {
        "id": "gpzM7ar3-wIg"
      },
      "source": [
        "### Top 5 states with most number of deaths"
      ]
    },
    {
      "cell_type": "code",
      "execution_count": 37,
      "metadata": {
        "id": "D8P5Zeyp-wIh"
      },
      "outputs": [
        {
          "data": {
            "text/plain": [
              "state\n",
              "SP    534452\n",
              "RJ    248359\n",
              "MG    204563\n",
              "RS    141342\n",
              "BA    110401\n",
              "Name: total, dtype: int64"
            ]
          },
          "execution_count": 37,
          "metadata": {},
          "output_type": "execute_result"
        }
      ],
      "source": [
        "df.groupby('state').total.sum().sort_values(ascending=False).head(5)"
      ]
    },
    {
      "cell_type": "markdown",
      "metadata": {
        "id": "Uo1D2HxS-wIj"
      },
      "source": [
        "### Which year has the highest number of deaths (grouping by age)?"
      ]
    },
    {
      "cell_type": "code",
      "execution_count": 38,
      "metadata": {
        "id": "ElL51I4N-wIk"
      },
      "outputs": [
        {
          "data": {
            "text/plain": [
              "<AxesSubplot:xlabel='year_of_death', ylabel='total'>"
            ]
          },
          "execution_count": 38,
          "metadata": {},
          "output_type": "execute_result"
        },
        {
          "data": {
            "image/png": "[encoded data removed]",
            "text/plain": [
              "<Figure size 432x288 with 1 Axes>"
            ]
          },
          "metadata": {
            "needs_background": "light"
          },
          "output_type": "display_data"
        }
      ],
      "source": [
        "sns.barplot(x=\"year_of_death\", y=\"total\", data=df, hue=\"age\" ,estimator=np.sum)"
      ]
    },
    {
      "cell_type": "markdown",
      "metadata": {
        "id": "As2VXYZk-wIo"
      },
      "source": [
        "### No. of deaths depending on gender:"
      ]
    },
    {
      "cell_type": "code",
      "execution_count": 39,
      "metadata": {
        "id": "VtT7MP2k-wIp"
      },
      "outputs": [
        {
          "data": {
            "text/plain": [
              "<AxesSubplot:xlabel='total', ylabel='gender'>"
            ]
          },
          "execution_count": 39,
          "metadata": {},
          "output_type": "execute_result"
        },
        {
          "data": {
            "image/png": "[encoded data removed]",
            "text/plain": [
              "<Figure size 432x288 with 1 Axes>"
            ]
          },
          "metadata": {
            "needs_background": "light"
          },
          "output_type": "display_data"
        }
      ],
      "source": [
        "sns.barplot(x='total', y='gender', data=df, palette=\"Set2\", estimator=np.sum)"
      ]
    },
    {
      "cell_type": "markdown",
      "metadata": {
        "id": "zf7cFDP5-wIr"
      },
      "source": [
        "### Stripplot of months of death based on age"
      ]
    },
    {
      "cell_type": "code",
      "execution_count": 40,
      "metadata": {
        "id": "shPyhG46-wIs"
      },
      "outputs": [
        {
          "data": {
            "text/plain": [
              "<AxesSubplot:xlabel='age', ylabel='month_of_death'>"
            ]
          },
          "execution_count": 40,
          "metadata": {},
          "output_type": "execute_result"
        },
        {
          "data": {
            "image/png": "[encoded data removed]",
            "text/plain": [
              "<Figure size 432x288 with 1 Axes>"
            ]
          },
          "metadata": {
            "needs_background": "light"
          },
          "output_type": "display_data"
        }
      ],
      "source": [
        "sns.stripplot(x='age', y='month_of_death', data=df, palette=\"Set1\")"
      ]
    },
    {
      "cell_type": "markdown",
      "metadata": {},
      "source": [
        "### Scatter plot of total deaths based on skin color"
      ]
    },
    {
      "cell_type": "code",
      "execution_count": 41,
      "metadata": {},
      "outputs": [
        {
          "data": {
            "text/plain": [
              "<matplotlib.collections.PathCollection at 0x14854a84850>"
            ]
          },
          "execution_count": 41,
          "metadata": {},
          "output_type": "execute_result"
        },
        {
          "data": {
            "image/png": "[encoded data removed]",
            "text/plain": [
              "<Figure size 432x288 with 1 Axes>"
            ]
          },
          "metadata": {
            "needs_background": "light"
          },
          "output_type": "display_data"
        }
      ],
      "source": [
        "plt.scatter(df['color'], df['total'])"
      ]
    },
    {
      "cell_type": "code",
      "execution_count": 43,
      "metadata": {},
      "outputs": [
        {
          "data": {
            "text/plain": [
              "<AxesSubplot:xlabel='color', ylabel='total'>"
            ]
          },
          "execution_count": 43,
          "metadata": {},
          "output_type": "execute_result"
        },
        {
          "data": {
            "image/png": "[encoded data removed]",
            "text/plain": [
              "<Figure size 432x288 with 1 Axes>"
            ]
          },
          "metadata": {
            "needs_background": "light"
          },
          "output_type": "display_data"
        }
      ],
      "source": [
        "df.groupby('color').total.sum().sort_values(ascending=False).head(5)\n",
        "sns.barplot(x=\"color\", y=\"total\", data=df, hue=\"age\" ,estimator=np.sum)"
      ]
    },
    {
      "cell_type": "markdown",
      "metadata": {},
      "source": [
        "![Pictue](3.png)"
      ]
    },
    {
      "cell_type": "markdown",
      "metadata": {
        "id": "Pw3-8LDI-wIu"
      },
      "source": [
        "### Correlation"
      ]
    },
    {
      "cell_type": "markdown",
      "metadata": {},
      "source": [
        "- As there was only one numeric column in the data set so Correlation does not make any sense."
      ]
    },
    {
      "cell_type": "markdown",
      "metadata": {
        "id": "H7pPOd3e-wIw"
      },
      "source": [
        "### Heat map"
      ]
    },
    {
      "cell_type": "code",
      "execution_count": null,
      "metadata": {
        "id": "VQ-oA6Er-wIx"
      },
      "outputs": [
        {
          "data": {
            "text/plain": [
              "<AxesSubplot:>"
            ]
          },
          "execution_count": 40,
          "metadata": {},
          "output_type": "execute_result"
        },
        {
          "data": {
            "image/png": "[encoded data removed]",
            "text/plain": [
              "<Figure size 432x288 with 2 Axes>"
            ]
          },
          "metadata": {
            "needs_background": "light"
          },
          "output_type": "display_data"
        }
      ],
      "source": [
        "sns.heatmap(df.corr(), annot=True, cmap=\"YlGnBu\")"
      ]
    },
    {
      "cell_type": "markdown",
      "metadata": {},
      "source": [
        "**We have compared the number and causes of deaths based on age, gender, state and color of people.**"
      ]
    }
  ],
  "metadata": {
    "colab": {
      "collapsed_sections": [],
      "name": "Copy of dataeda.ipynb",
      "provenance": []
    },
    "kernelspec": {
      "display_name": "Python 3.10.5 64-bit",
      "language": "python",
      "name": "python3"
    },
    "language_info": {
      "codemirror_mode": {
        "name": "ipython",
        "version": 3
      },
      "file_extension": ".py",
      "mimetype": "text/x-python",
      "name": "python",
      "nbconvert_exporter": "python",
      "pygments_lexer": "ipython3",
      "version": "3.10.5"
    },
    "vscode": {
      "interpreter": {
        "hash": "ac4210170004fc925580c073d42b7c18005567bca7a1d143f4e4d5a93e6c63c2"
      }
    }
  },
  "nbformat": 4,
  "nbformat_minor": 0
}
